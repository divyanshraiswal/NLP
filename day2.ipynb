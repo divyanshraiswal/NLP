{
 "cells": [
  {
   "cell_type": "code",
   "execution_count": 1,
   "id": "793b9671-f62e-452e-ad4e-29bdf3425d55",
   "metadata": {
    "collapsed": true,
    "jupyter": {
     "outputs_hidden": true
    }
   },
   "outputs": [
    {
     "name": "stdout",
     "output_type": "stream",
     "text": [
      "Defaulting to user installation because normal site-packages is not writeable\n",
      "Requirement already satisfied: nltk in c:\\programdata\\anaconda3\\lib\\site-packages (3.9.1)\n",
      "Requirement already satisfied: click in c:\\programdata\\anaconda3\\lib\\site-packages (from nltk) (8.1.7)\n",
      "Requirement already satisfied: joblib in c:\\programdata\\anaconda3\\lib\\site-packages (from nltk) (1.4.2)\n",
      "Requirement already satisfied: regex>=2021.8.3 in c:\\programdata\\anaconda3\\lib\\site-packages (from nltk) (2024.9.11)\n",
      "Requirement already satisfied: tqdm in c:\\programdata\\anaconda3\\lib\\site-packages (from nltk) (4.66.5)\n",
      "Requirement already satisfied: colorama in c:\\programdata\\anaconda3\\lib\\site-packages (from click->nltk) (0.4.6)\n"
     ]
    }
   ],
   "source": [
    "!pip install nltk"
   ]
  },
  {
   "cell_type": "code",
   "execution_count": 2,
   "id": "34493b48-eaa6-47dd-9832-0c15c031470f",
   "metadata": {},
   "outputs": [],
   "source": [
    "paragraph=\"\"\"Pesident Joseph Robinette Biden, Jr. was born in Scranton, Pennsylvania, the first of four children of Catherine Eugenia Finnegan Biden and Joseph Robinette Biden, Sr.\n",
    "In 1953, the Biden family moved to Claymont, Delaware. President Biden graduated from the University of Delaware and Syracuse Law School and served on the New Castle County Council.At age 29, President Biden became one of the youngest Americans ever elected to the United States Senate. Just weeks after his Senate election, tragedy struck when his wife Neilia and daughter Naomi were killed, and sons Hunter and Beau were critically injured, in a car accident. He was sworn into the U.S. Senate at his sons’ hospital bedsides and began commuting from Wilmington to Washington every day, first by car, and then by train, in order to be with his family.\n",
    "In 1977, he married Jill Jacobs, and in 1980, their family was complete with the birth of their daughter Ashley.\"\"\""
   ]
  },
  {
   "cell_type": "code",
   "execution_count": 3,
   "id": "0c9e8f9b-a471-4e08-a3f3-e19bcb66f5c7",
   "metadata": {},
   "outputs": [
    {
     "data": {
      "text/plain": [
       "'Pesident Joseph Robinette Biden, Jr. was born in Scranton, Pennsylvania, the first of four children of Catherine Eugenia Finnegan Biden and Joseph Robinette Biden, Sr.\\nIn 1953, the Biden family moved to Claymont, Delaware. President Biden graduated from the University of Delaware and Syracuse Law School and served on the New Castle County Council.At age 29, President Biden became one of the youngest Americans ever elected to the United States Senate. Just weeks after his Senate election, tragedy struck when his wife Neilia and daughter Naomi were killed, and sons Hunter and Beau were critically injured, in a car accident. He was sworn into the U.S. Senate at his sons’ hospital bedsides and began commuting from Wilmington to Washington every day, first by car, and then by train, in order to be with his family.\\nIn 1977, he married Jill Jacobs, and in 1980, their family was complete with the birth of their daughter Ashley.'"
      ]
     },
     "execution_count": 3,
     "metadata": {},
     "output_type": "execute_result"
    }
   ],
   "source": [
    "paragraph"
   ]
  },
  {
   "cell_type": "code",
   "execution_count": 4,
   "id": "cd170037-6768-4f55-ad8e-15f06f040a7d",
   "metadata": {},
   "outputs": [],
   "source": [
    "import nltk\n",
    "from nltk.stem import PorterStemmer\n",
    "from nltk.corpus import stopwords"
   ]
  },
  {
   "cell_type": "code",
   "execution_count": 5,
   "id": "9079ab42-774b-459a-ad64-5026e7f9c31f",
   "metadata": {},
   "outputs": [
    {
     "name": "stderr",
     "output_type": "stream",
     "text": [
      "[nltk_data] Downloading package punkt to\n",
      "[nltk_data]     C:\\Users\\divya\\AppData\\Roaming\\nltk_data...\n",
      "[nltk_data]   Package punkt is already up-to-date!\n"
     ]
    }
   ],
   "source": [
    "nltk.download('punkt')\n",
    "# Convert paragraph into sentences\n",
    "sentences = nltk.sent_tokenize(paragraph)"
   ]
  },
  {
   "cell_type": "code",
   "execution_count": 6,
   "id": "b6ebc80c-54e6-48d6-9968-ce1efcb6a873",
   "metadata": {},
   "outputs": [
    {
     "name": "stdout",
     "output_type": "stream",
     "text": [
      "['Pesident Joseph Robinette Biden, Jr. was born in Scranton, Pennsylvania, the first of four children of Catherine Eugenia Finnegan Biden and Joseph Robinette Biden, Sr.', 'In 1953, the Biden family moved to Claymont, Delaware.', 'President Biden graduated from the University of Delaware and Syracuse Law School and served on the New Castle County Council.At age 29, President Biden became one of the youngest Americans ever elected to the United States Senate.', 'Just weeks after his Senate election, tragedy struck when his wife Neilia and daughter Naomi were killed, and sons Hunter and Beau were critically injured, in a car accident.', 'He was sworn into the U.S. Senate at his sons’ hospital bedsides and began commuting from Wilmington to Washington every day, first by car, and then by train, in order to be with his family.', 'In 1977, he married Jill Jacobs, and in 1980, their family was complete with the birth of their daughter Ashley.']\n"
     ]
    }
   ],
   "source": [
    "print(sentences)"
   ]
  },
  {
   "cell_type": "code",
   "execution_count": 7,
   "id": "84518597-676a-4909-976a-53dbbedf4e1f",
   "metadata": {},
   "outputs": [
    {
     "data": {
      "text/plain": [
       "list"
      ]
     },
     "execution_count": 7,
     "metadata": {},
     "output_type": "execute_result"
    }
   ],
   "source": [
    "type(sentences)"
   ]
  },
  {
   "cell_type": "code",
   "execution_count": 8,
   "id": "d11e7848-6a8f-420e-914c-ce3338dc4b1c",
   "metadata": {},
   "outputs": [
    {
     "data": {
      "text/plain": [
       "'histori'"
      ]
     },
     "execution_count": 8,
     "metadata": {},
     "output_type": "execute_result"
    }
   ],
   "source": [
    "stemmer=PorterStemmer()\n",
    "stemmer.stem('history')"
   ]
  },
  {
   "cell_type": "code",
   "execution_count": 9,
   "id": "2e2396f6-f227-428b-bf48-c3c83f7c1748",
   "metadata": {},
   "outputs": [
    {
     "name": "stderr",
     "output_type": "stream",
     "text": [
      "[nltk_data] Downloading package wordnet to\n",
      "[nltk_data]     C:\\Users\\divya\\AppData\\Roaming\\nltk_data...\n",
      "[nltk_data]   Package wordnet is already up-to-date!\n"
     ]
    },
    {
     "data": {
      "text/plain": [
       "True"
      ]
     },
     "execution_count": 9,
     "metadata": {},
     "output_type": "execute_result"
    }
   ],
   "source": [
    "nltk.download('wordnet')"
   ]
  },
  {
   "cell_type": "code",
   "execution_count": 10,
   "id": "dfc1c27a-391f-4291-9ebe-4a25d55780ed",
   "metadata": {},
   "outputs": [
    {
     "data": {
      "text/plain": [
       "'go'"
      ]
     },
     "execution_count": 10,
     "metadata": {},
     "output_type": "execute_result"
    }
   ],
   "source": [
    "from nltk.stem import WordNetLemmatizer\n",
    "lemmatizer=WordNetLemmatizer()\n",
    "lemmatizer.lemmatize('goes')"
   ]
  },
  {
   "cell_type": "code",
   "execution_count": 11,
   "id": "31af05d7-bde1-4c9b-b763-c12e72e9f534",
   "metadata": {},
   "outputs": [
    {
     "data": {
      "text/plain": [
       "6"
      ]
     },
     "execution_count": 11,
     "metadata": {},
     "output_type": "execute_result"
    }
   ],
   "source": [
    "len(sentences)"
   ]
  },
  {
   "cell_type": "code",
   "execution_count": 12,
   "id": "6c6bddee-abc3-4fda-b3bd-e6e56cac19eb",
   "metadata": {},
   "outputs": [],
   "source": [
    "import re\n",
    "corpus=[]\n",
    "for i in range(len(sentences)):\n",
    "    text=re.sub('[^a-zA-Z]',\" \",sentences[i]) #other than a to z and A to Z replace it with blank chracter\n",
    "    text=text.lower()#lower case\n",
    "    corpus.append(text)"
   ]
  },
  {
   "cell_type": "code",
   "execution_count": 13,
   "id": "a2d4cfd1-74f7-4e84-ac14-2edf342936df",
   "metadata": {},
   "outputs": [
    {
     "data": {
      "text/plain": [
       "['pesident joseph robinette biden  jr  was born in scranton  pennsylvania  the first of four children of catherine eugenia finnegan biden and joseph robinette biden  sr ',\n",
       " 'in       the biden family moved to claymont  delaware ',\n",
       " 'president biden graduated from the university of delaware and syracuse law school and served on the new castle county council at age     president biden became one of the youngest americans ever elected to the united states senate ',\n",
       " 'just weeks after his senate election  tragedy struck when his wife neilia and daughter naomi were killed  and sons hunter and beau were critically injured  in a car accident ',\n",
       " 'he was sworn into the u s  senate at his sons  hospital bedsides and began commuting from wilmington to washington every day  first by car  and then by train  in order to be with his family ',\n",
       " 'in       he married jill jacobs  and in       their family was complete with the birth of their daughter ashley ']"
      ]
     },
     "execution_count": 13,
     "metadata": {},
     "output_type": "execute_result"
    }
   ],
   "source": [
    "corpus"
   ]
  },
  {
   "cell_type": "code",
   "execution_count": 14,
   "id": "8903d9cb-7715-49e5-8d06-12b68cfac6ce",
   "metadata": {},
   "outputs": [
    {
     "name": "stderr",
     "output_type": "stream",
     "text": [
      "[nltk_data] Downloading package stopwords to\n",
      "[nltk_data]     C:\\Users\\divya\\AppData\\Roaming\\nltk_data...\n",
      "[nltk_data]   Package stopwords is already up-to-date!\n"
     ]
    },
    {
     "data": {
      "text/plain": [
       "True"
      ]
     },
     "execution_count": 14,
     "metadata": {},
     "output_type": "execute_result"
    }
   ],
   "source": [
    "nltk.download('stopwords')"
   ]
  },
  {
   "cell_type": "code",
   "execution_count": 15,
   "id": "14335f9d-12eb-45dc-a650-7323bf2ac31e",
   "metadata": {
    "scrolled": true
   },
   "outputs": [
    {
     "name": "stdout",
     "output_type": "stream",
     "text": [
      "pesid\n",
      "joseph\n",
      "robinett\n",
      "biden\n",
      "jr\n",
      "born\n",
      "scranton\n",
      "pennsylvania\n",
      "first\n",
      "four\n",
      "children\n",
      "catherin\n",
      "eugenia\n",
      "finnegan\n",
      "biden\n",
      "joseph\n",
      "robinett\n",
      "biden\n",
      "sr\n",
      "biden\n",
      "famili\n",
      "move\n",
      "claymont\n",
      "delawar\n",
      "presid\n",
      "biden\n",
      "graduat\n",
      "univers\n",
      "delawar\n",
      "syracus\n",
      "law\n",
      "school\n",
      "serv\n",
      "new\n",
      "castl\n",
      "counti\n",
      "council\n",
      "age\n",
      "presid\n",
      "biden\n",
      "becam\n",
      "one\n",
      "youngest\n",
      "american\n",
      "ever\n",
      "elect\n",
      "unit\n",
      "state\n",
      "senat\n",
      "week\n",
      "senat\n",
      "elect\n",
      "tragedi\n",
      "struck\n",
      "wife\n",
      "neilia\n",
      "daughter\n",
      "naomi\n",
      "kill\n",
      "son\n",
      "hunter\n",
      "beau\n",
      "critic\n",
      "injur\n",
      "car\n",
      "accid\n",
      "sworn\n",
      "u\n",
      "senat\n",
      "son\n",
      "hospit\n",
      "bedsid\n",
      "began\n",
      "commut\n",
      "wilmington\n",
      "washington\n",
      "everi\n",
      "day\n",
      "first\n",
      "car\n",
      "train\n",
      "order\n",
      "famili\n",
      "marri\n",
      "jill\n",
      "jacob\n",
      "famili\n",
      "complet\n",
      "birth\n",
      "daughter\n",
      "ashley\n"
     ]
    }
   ],
   "source": [
    "#stemming\n",
    "for i in corpus:\n",
    "    words=nltk.word_tokenize(i)\n",
    "    for word in words:\n",
    "        if word not in set(stopwords.words('english')):\n",
    "            print(stemmer.stem(word))"
   ]
  },
  {
   "cell_type": "code",
   "execution_count": 16,
   "id": "c7084c10-2d0c-4134-8d6b-2780bed8c415",
   "metadata": {
    "scrolled": true
   },
   "outputs": [
    {
     "name": "stdout",
     "output_type": "stream",
     "text": [
      "pesident\n",
      "joseph\n",
      "robinette\n",
      "biden\n",
      "jr\n",
      "born\n",
      "scranton\n",
      "pennsylvania\n",
      "first\n",
      "four\n",
      "child\n",
      "catherine\n",
      "eugenia\n",
      "finnegan\n",
      "biden\n",
      "joseph\n",
      "robinette\n",
      "biden\n",
      "sr\n",
      "biden\n",
      "family\n",
      "moved\n",
      "claymont\n",
      "delaware\n",
      "president\n",
      "biden\n",
      "graduated\n",
      "university\n",
      "delaware\n",
      "syracuse\n",
      "law\n",
      "school\n",
      "served\n",
      "new\n",
      "castle\n",
      "county\n",
      "council\n",
      "age\n",
      "president\n",
      "biden\n",
      "became\n",
      "one\n",
      "youngest\n",
      "american\n",
      "ever\n",
      "elected\n",
      "united\n",
      "state\n",
      "senate\n",
      "week\n",
      "senate\n",
      "election\n",
      "tragedy\n",
      "struck\n",
      "wife\n",
      "neilia\n",
      "daughter\n",
      "naomi\n",
      "killed\n",
      "son\n",
      "hunter\n",
      "beau\n",
      "critically\n",
      "injured\n",
      "car\n",
      "accident\n",
      "sworn\n",
      "u\n",
      "senate\n",
      "son\n",
      "hospital\n",
      "bedside\n",
      "began\n",
      "commuting\n",
      "wilmington\n",
      "washington\n",
      "every\n",
      "day\n",
      "first\n",
      "car\n",
      "train\n",
      "order\n",
      "family\n",
      "married\n",
      "jill\n",
      "jacob\n",
      "family\n",
      "complete\n",
      "birth\n",
      "daughter\n",
      "ashley\n"
     ]
    }
   ],
   "source": [
    "#lemmatization\n",
    "for i in corpus:\n",
    "    words=nltk.word_tokenize(i)\n",
    "    for word in words:\n",
    "        if word not in set(stopwords.words('english')):\n",
    "            print(lemmatizer.lemmatize(word))"
   ]
  },
  {
   "cell_type": "code",
   "execution_count": 17,
   "id": "cb6f7363-2c9e-45cb-9470-45457f0453bf",
   "metadata": {},
   "outputs": [],
   "source": [
    "import re\n",
    "from nltk.corpus import stopwords\n",
    "from nltk.stem import WordNetLemmatizer\n",
    "\n",
    "lemmatizer = WordNetLemmatizer()\n",
    "corpus = []\n",
    "\n",
    "for sentence in sentences:\n",
    "    text = re.sub('[^a-zA-Z]', ' ', sentence)  # Remove non-alphabetic characters\n",
    "    text = text.lower()\n",
    "    text = text.split()\n",
    "    text = [lemmatizer.lemmatize(word) for word in text if word not in set(stopwords.words('english'))]\n",
    "    text = \" \".join(text)\n",
    "    corpus.append(text)\n"
   ]
  },
  {
   "cell_type": "code",
   "execution_count": 26,
   "id": "d6e09f90-eb53-4531-a848-abb6eb0bc636",
   "metadata": {},
   "outputs": [],
   "source": [
    "#bag of words\n",
    "from sklearn.feature_extraction.text import CountVectorizer \n",
    "cv=CountVectorizer(binary=True,ngram_range=(2,3))  ##ngram of range 2 to 3"
   ]
  },
  {
   "cell_type": "code",
   "execution_count": 27,
   "id": "37129cdf-980f-4e9d-b5ff-4eb6a284909e",
   "metadata": {},
   "outputs": [],
   "source": [
    "x=cv.fit_transform(corpus)"
   ]
  },
  {
   "cell_type": "code",
   "execution_count": 28,
   "id": "9afe5b95-6cd3-436e-b5a1-82d3ee09d7f2",
   "metadata": {
    "scrolled": true
   },
   "outputs": [
    {
     "data": {
      "text/plain": [
       "{'pesident joseph': 111,\n",
       " 'joseph robinette': 88,\n",
       " 'robinette biden': 116,\n",
       " 'biden jr': 20,\n",
       " 'jr born': 90,\n",
       " 'born scranton': 25,\n",
       " 'scranton pennsylvania': 121,\n",
       " 'pennsylvania first': 109,\n",
       " 'first four': 72,\n",
       " 'four child': 74,\n",
       " 'child catherine': 34,\n",
       " 'catherine eugenia': 32,\n",
       " 'eugenia finnegan': 58,\n",
       " 'finnegan biden': 68,\n",
       " 'biden joseph': 18,\n",
       " 'biden sr': 22,\n",
       " 'pesident joseph robinette': 112,\n",
       " 'joseph robinette biden': 89,\n",
       " 'robinette biden jr': 117,\n",
       " 'biden jr born': 21,\n",
       " 'jr born scranton': 91,\n",
       " 'born scranton pennsylvania': 26,\n",
       " 'scranton pennsylvania first': 122,\n",
       " 'pennsylvania first four': 110,\n",
       " 'first four child': 73,\n",
       " 'four child catherine': 75,\n",
       " 'child catherine eugenia': 35,\n",
       " 'catherine eugenia finnegan': 33,\n",
       " 'eugenia finnegan biden': 59,\n",
       " 'finnegan biden joseph': 69,\n",
       " 'biden joseph robinette': 19,\n",
       " 'robinette biden sr': 118,\n",
       " 'biden family': 14,\n",
       " 'family moved': 66,\n",
       " 'moved claymont': 98,\n",
       " 'claymont delaware': 36,\n",
       " 'biden family moved': 15,\n",
       " 'family moved claymont': 67,\n",
       " 'moved claymont delaware': 99,\n",
       " 'president biden': 113,\n",
       " 'biden graduated': 16,\n",
       " 'graduated university': 76,\n",
       " 'university delaware': 146,\n",
       " 'delaware syracuse': 52,\n",
       " 'syracuse law': 138,\n",
       " 'law school': 94,\n",
       " 'school served': 119,\n",
       " 'served new': 127,\n",
       " 'new castle': 104,\n",
       " 'castle county': 30,\n",
       " 'county council': 43,\n",
       " 'council age': 41,\n",
       " 'age president': 0,\n",
       " 'biden became': 12,\n",
       " 'became one': 6,\n",
       " 'one youngest': 106,\n",
       " 'youngest american': 156,\n",
       " 'american ever': 2,\n",
       " 'ever elected': 60,\n",
       " 'elected united': 54,\n",
       " 'united state': 144,\n",
       " 'state senate': 133,\n",
       " 'president biden graduated': 115,\n",
       " 'biden graduated university': 17,\n",
       " 'graduated university delaware': 77,\n",
       " 'university delaware syracuse': 147,\n",
       " 'delaware syracuse law': 53,\n",
       " 'syracuse law school': 139,\n",
       " 'law school served': 95,\n",
       " 'school served new': 120,\n",
       " 'served new castle': 128,\n",
       " 'new castle county': 105,\n",
       " 'castle county council': 31,\n",
       " 'county council age': 44,\n",
       " 'council age president': 42,\n",
       " 'age president biden': 1,\n",
       " 'president biden became': 114,\n",
       " 'biden became one': 13,\n",
       " 'became one youngest': 7,\n",
       " 'one youngest american': 107,\n",
       " 'youngest american ever': 157,\n",
       " 'american ever elected': 3,\n",
       " 'ever elected united': 61,\n",
       " 'elected united state': 55,\n",
       " 'united state senate': 145,\n",
       " 'week senate': 150,\n",
       " 'senate election': 123,\n",
       " 'election tragedy': 56,\n",
       " 'tragedy struck': 140,\n",
       " 'struck wife': 134,\n",
       " 'wife neilia': 152,\n",
       " 'neilia daughter': 102,\n",
       " 'daughter naomi': 48,\n",
       " 'naomi killed': 100,\n",
       " 'killed son': 92,\n",
       " 'son hunter': 131,\n",
       " 'hunter beau': 80,\n",
       " 'beau critically': 4,\n",
       " 'critically injured': 45,\n",
       " 'injured car': 82,\n",
       " 'car accident': 27,\n",
       " 'week senate election': 151,\n",
       " 'senate election tragedy': 124,\n",
       " 'election tragedy struck': 57,\n",
       " 'tragedy struck wife': 141,\n",
       " 'struck wife neilia': 135,\n",
       " 'wife neilia daughter': 153,\n",
       " 'neilia daughter naomi': 103,\n",
       " 'daughter naomi killed': 49,\n",
       " 'naomi killed son': 101,\n",
       " 'killed son hunter': 93,\n",
       " 'son hunter beau': 132,\n",
       " 'hunter beau critically': 81,\n",
       " 'beau critically injured': 5,\n",
       " 'critically injured car': 46,\n",
       " 'injured car accident': 83,\n",
       " 'sworn senate': 136,\n",
       " 'senate son': 125,\n",
       " 'son hospital': 129,\n",
       " 'hospital bedside': 78,\n",
       " 'bedside began': 8,\n",
       " 'began commuting': 10,\n",
       " 'commuting wilmington': 37,\n",
       " 'wilmington washington': 154,\n",
       " 'washington every': 148,\n",
       " 'every day': 62,\n",
       " 'day first': 50,\n",
       " 'first car': 70,\n",
       " 'car train': 28,\n",
       " 'train order': 142,\n",
       " 'order family': 108,\n",
       " 'sworn senate son': 137,\n",
       " 'senate son hospital': 126,\n",
       " 'son hospital bedside': 130,\n",
       " 'hospital bedside began': 79,\n",
       " 'bedside began commuting': 9,\n",
       " 'began commuting wilmington': 11,\n",
       " 'commuting wilmington washington': 38,\n",
       " 'wilmington washington every': 155,\n",
       " 'washington every day': 149,\n",
       " 'every day first': 63,\n",
       " 'day first car': 51,\n",
       " 'first car train': 71,\n",
       " 'car train order': 29,\n",
       " 'train order family': 143,\n",
       " 'married jill': 96,\n",
       " 'jill jacob': 86,\n",
       " 'jacob family': 84,\n",
       " 'family complete': 64,\n",
       " 'complete birth': 39,\n",
       " 'birth daughter': 23,\n",
       " 'daughter ashley': 47,\n",
       " 'married jill jacob': 97,\n",
       " 'jill jacob family': 87,\n",
       " 'jacob family complete': 85,\n",
       " 'family complete birth': 65,\n",
       " 'complete birth daughter': 40,\n",
       " 'birth daughter ashley': 24}"
      ]
     },
     "execution_count": 28,
     "metadata": {},
     "output_type": "execute_result"
    }
   ],
   "source": [
    "cv.vocabulary_"
   ]
  },
  {
   "cell_type": "code",
   "execution_count": 29,
   "id": "b5fe87bd-009e-4928-98c5-88f5aaf5619f",
   "metadata": {},
   "outputs": [
    {
     "data": {
      "text/plain": [
       "'pesident joseph robinette biden jr born scranton pennsylvania first four child catherine eugenia finnegan biden joseph robinette biden sr'"
      ]
     },
     "execution_count": 29,
     "metadata": {},
     "output_type": "execute_result"
    }
   ],
   "source": [
    "corpus[0] #first sentence"
   ]
  },
  {
   "cell_type": "code",
   "execution_count": 30,
   "id": "c90d9b40-314d-48fa-bec8-21d5cce9e355",
   "metadata": {},
   "outputs": [
    {
     "data": {
      "text/plain": [
       "array([[0, 0, 0, 0, 0, 0, 0, 0, 0, 0, 0, 0, 0, 0, 0, 0, 0, 0, 1, 1, 1, 1,\n",
       "        1, 0, 0, 1, 1, 0, 0, 0, 0, 0, 1, 1, 1, 1, 0, 0, 0, 0, 0, 0, 0, 0,\n",
       "        0, 0, 0, 0, 0, 0, 0, 0, 0, 0, 0, 0, 0, 0, 1, 1, 0, 0, 0, 0, 0, 0,\n",
       "        0, 0, 1, 1, 0, 0, 1, 1, 1, 1, 0, 0, 0, 0, 0, 0, 0, 0, 0, 0, 0, 0,\n",
       "        1, 1, 1, 1, 0, 0, 0, 0, 0, 0, 0, 0, 0, 0, 0, 0, 0, 0, 0, 0, 0, 1,\n",
       "        1, 1, 1, 0, 0, 0, 1, 1, 1, 0, 0, 1, 1, 0, 0, 0, 0, 0, 0, 0, 0, 0,\n",
       "        0, 0, 0, 0, 0, 0, 0, 0, 0, 0, 0, 0, 0, 0, 0, 0, 0, 0, 0, 0, 0, 0,\n",
       "        0, 0, 0, 0]], dtype=int64)"
      ]
     },
     "execution_count": 30,
     "metadata": {},
     "output_type": "execute_result"
    }
   ],
   "source": [
    "x[0].toarray()# Bag of words for first sentence"
   ]
  },
  {
   "cell_type": "code",
   "execution_count": 39,
   "id": "65a76350-f6a6-4134-ae3a-d0c056821388",
   "metadata": {},
   "outputs": [],
   "source": [
    "## TFIDF \n",
    "from sklearn.feature_extraction.text import TfidfVectorizer\n",
    "cv=TfidfVectorizer(ngram_range=(2,3))\n",
    "x=cv.fit_transform(corpus)"
   ]
  },
  {
   "cell_type": "code",
   "execution_count": 40,
   "id": "0d6f50b0-0199-4aee-a2f7-d868937ccee1",
   "metadata": {
    "scrolled": true
   },
   "outputs": [
    {
     "data": {
      "text/plain": [
       "{'pesident joseph': 111,\n",
       " 'joseph robinette': 88,\n",
       " 'robinette biden': 116,\n",
       " 'biden jr': 20,\n",
       " 'jr born': 90,\n",
       " 'born scranton': 25,\n",
       " 'scranton pennsylvania': 121,\n",
       " 'pennsylvania first': 109,\n",
       " 'first four': 72,\n",
       " 'four child': 74,\n",
       " 'child catherine': 34,\n",
       " 'catherine eugenia': 32,\n",
       " 'eugenia finnegan': 58,\n",
       " 'finnegan biden': 68,\n",
       " 'biden joseph': 18,\n",
       " 'biden sr': 22,\n",
       " 'pesident joseph robinette': 112,\n",
       " 'joseph robinette biden': 89,\n",
       " 'robinette biden jr': 117,\n",
       " 'biden jr born': 21,\n",
       " 'jr born scranton': 91,\n",
       " 'born scranton pennsylvania': 26,\n",
       " 'scranton pennsylvania first': 122,\n",
       " 'pennsylvania first four': 110,\n",
       " 'first four child': 73,\n",
       " 'four child catherine': 75,\n",
       " 'child catherine eugenia': 35,\n",
       " 'catherine eugenia finnegan': 33,\n",
       " 'eugenia finnegan biden': 59,\n",
       " 'finnegan biden joseph': 69,\n",
       " 'biden joseph robinette': 19,\n",
       " 'robinette biden sr': 118,\n",
       " 'biden family': 14,\n",
       " 'family moved': 66,\n",
       " 'moved claymont': 98,\n",
       " 'claymont delaware': 36,\n",
       " 'biden family moved': 15,\n",
       " 'family moved claymont': 67,\n",
       " 'moved claymont delaware': 99,\n",
       " 'president biden': 113,\n",
       " 'biden graduated': 16,\n",
       " 'graduated university': 76,\n",
       " 'university delaware': 146,\n",
       " 'delaware syracuse': 52,\n",
       " 'syracuse law': 138,\n",
       " 'law school': 94,\n",
       " 'school served': 119,\n",
       " 'served new': 127,\n",
       " 'new castle': 104,\n",
       " 'castle county': 30,\n",
       " 'county council': 43,\n",
       " 'council age': 41,\n",
       " 'age president': 0,\n",
       " 'biden became': 12,\n",
       " 'became one': 6,\n",
       " 'one youngest': 106,\n",
       " 'youngest american': 156,\n",
       " 'american ever': 2,\n",
       " 'ever elected': 60,\n",
       " 'elected united': 54,\n",
       " 'united state': 144,\n",
       " 'state senate': 133,\n",
       " 'president biden graduated': 115,\n",
       " 'biden graduated university': 17,\n",
       " 'graduated university delaware': 77,\n",
       " 'university delaware syracuse': 147,\n",
       " 'delaware syracuse law': 53,\n",
       " 'syracuse law school': 139,\n",
       " 'law school served': 95,\n",
       " 'school served new': 120,\n",
       " 'served new castle': 128,\n",
       " 'new castle county': 105,\n",
       " 'castle county council': 31,\n",
       " 'county council age': 44,\n",
       " 'council age president': 42,\n",
       " 'age president biden': 1,\n",
       " 'president biden became': 114,\n",
       " 'biden became one': 13,\n",
       " 'became one youngest': 7,\n",
       " 'one youngest american': 107,\n",
       " 'youngest american ever': 157,\n",
       " 'american ever elected': 3,\n",
       " 'ever elected united': 61,\n",
       " 'elected united state': 55,\n",
       " 'united state senate': 145,\n",
       " 'week senate': 150,\n",
       " 'senate election': 123,\n",
       " 'election tragedy': 56,\n",
       " 'tragedy struck': 140,\n",
       " 'struck wife': 134,\n",
       " 'wife neilia': 152,\n",
       " 'neilia daughter': 102,\n",
       " 'daughter naomi': 48,\n",
       " 'naomi killed': 100,\n",
       " 'killed son': 92,\n",
       " 'son hunter': 131,\n",
       " 'hunter beau': 80,\n",
       " 'beau critically': 4,\n",
       " 'critically injured': 45,\n",
       " 'injured car': 82,\n",
       " 'car accident': 27,\n",
       " 'week senate election': 151,\n",
       " 'senate election tragedy': 124,\n",
       " 'election tragedy struck': 57,\n",
       " 'tragedy struck wife': 141,\n",
       " 'struck wife neilia': 135,\n",
       " 'wife neilia daughter': 153,\n",
       " 'neilia daughter naomi': 103,\n",
       " 'daughter naomi killed': 49,\n",
       " 'naomi killed son': 101,\n",
       " 'killed son hunter': 93,\n",
       " 'son hunter beau': 132,\n",
       " 'hunter beau critically': 81,\n",
       " 'beau critically injured': 5,\n",
       " 'critically injured car': 46,\n",
       " 'injured car accident': 83,\n",
       " 'sworn senate': 136,\n",
       " 'senate son': 125,\n",
       " 'son hospital': 129,\n",
       " 'hospital bedside': 78,\n",
       " 'bedside began': 8,\n",
       " 'began commuting': 10,\n",
       " 'commuting wilmington': 37,\n",
       " 'wilmington washington': 154,\n",
       " 'washington every': 148,\n",
       " 'every day': 62,\n",
       " 'day first': 50,\n",
       " 'first car': 70,\n",
       " 'car train': 28,\n",
       " 'train order': 142,\n",
       " 'order family': 108,\n",
       " 'sworn senate son': 137,\n",
       " 'senate son hospital': 126,\n",
       " 'son hospital bedside': 130,\n",
       " 'hospital bedside began': 79,\n",
       " 'bedside began commuting': 9,\n",
       " 'began commuting wilmington': 11,\n",
       " 'commuting wilmington washington': 38,\n",
       " 'wilmington washington every': 155,\n",
       " 'washington every day': 149,\n",
       " 'every day first': 63,\n",
       " 'day first car': 51,\n",
       " 'first car train': 71,\n",
       " 'car train order': 29,\n",
       " 'train order family': 143,\n",
       " 'married jill': 96,\n",
       " 'jill jacob': 86,\n",
       " 'jacob family': 84,\n",
       " 'family complete': 64,\n",
       " 'complete birth': 39,\n",
       " 'birth daughter': 23,\n",
       " 'daughter ashley': 47,\n",
       " 'married jill jacob': 97,\n",
       " 'jill jacob family': 87,\n",
       " 'jacob family complete': 85,\n",
       " 'family complete birth': 65,\n",
       " 'complete birth daughter': 40,\n",
       " 'birth daughter ashley': 24}"
      ]
     },
     "execution_count": 40,
     "metadata": {},
     "output_type": "execute_result"
    }
   ],
   "source": [
    "cv.vocabulary_"
   ]
  },
  {
   "cell_type": "code",
   "execution_count": 41,
   "id": "bcf1d1a8-7105-4557-b3fd-1c6efa8f68ad",
   "metadata": {},
   "outputs": [
    {
     "data": {
      "text/plain": [
       "'pesident joseph robinette biden jr born scranton pennsylvania first four child catherine eugenia finnegan biden joseph robinette biden sr'"
      ]
     },
     "execution_count": 41,
     "metadata": {},
     "output_type": "execute_result"
    }
   ],
   "source": [
    "corpus[0]"
   ]
  },
  {
   "cell_type": "code",
   "execution_count": 42,
   "id": "4421244e-e732-4c29-9e4e-ccb4c69842e5",
   "metadata": {
    "scrolled": true
   },
   "outputs": [
    {
     "data": {
      "text/plain": [
       "array([[0.        , 0.        , 0.        , 0.        , 0.        ,\n",
       "        0.        , 0.        , 0.        , 0.        , 0.        ,\n",
       "        0.        , 0.        , 0.        , 0.        , 0.        ,\n",
       "        0.        , 0.        , 0.        , 0.15617376, 0.15617376,\n",
       "        0.15617376, 0.15617376, 0.15617376, 0.        , 0.        ,\n",
       "        0.15617376, 0.15617376, 0.        , 0.        , 0.        ,\n",
       "        0.        , 0.        , 0.15617376, 0.15617376, 0.15617376,\n",
       "        0.15617376, 0.        , 0.        , 0.        , 0.        ,\n",
       "        0.        , 0.        , 0.        , 0.        , 0.        ,\n",
       "        0.        , 0.        , 0.        , 0.        , 0.        ,\n",
       "        0.        , 0.        , 0.        , 0.        , 0.        ,\n",
       "        0.        , 0.        , 0.        , 0.15617376, 0.15617376,\n",
       "        0.        , 0.        , 0.        , 0.        , 0.        ,\n",
       "        0.        , 0.        , 0.        , 0.15617376, 0.15617376,\n",
       "        0.        , 0.        , 0.15617376, 0.15617376, 0.15617376,\n",
       "        0.15617376, 0.        , 0.        , 0.        , 0.        ,\n",
       "        0.        , 0.        , 0.        , 0.        , 0.        ,\n",
       "        0.        , 0.        , 0.        , 0.31234752, 0.31234752,\n",
       "        0.15617376, 0.15617376, 0.        , 0.        , 0.        ,\n",
       "        0.        , 0.        , 0.        , 0.        , 0.        ,\n",
       "        0.        , 0.        , 0.        , 0.        , 0.        ,\n",
       "        0.        , 0.        , 0.        , 0.        , 0.15617376,\n",
       "        0.15617376, 0.15617376, 0.15617376, 0.        , 0.        ,\n",
       "        0.        , 0.31234752, 0.15617376, 0.15617376, 0.        ,\n",
       "        0.        , 0.15617376, 0.15617376, 0.        , 0.        ,\n",
       "        0.        , 0.        , 0.        , 0.        , 0.        ,\n",
       "        0.        , 0.        , 0.        , 0.        , 0.        ,\n",
       "        0.        , 0.        , 0.        , 0.        , 0.        ,\n",
       "        0.        , 0.        , 0.        , 0.        , 0.        ,\n",
       "        0.        , 0.        , 0.        , 0.        , 0.        ,\n",
       "        0.        , 0.        , 0.        , 0.        , 0.        ,\n",
       "        0.        , 0.        , 0.        ]])"
      ]
     },
     "execution_count": 42,
     "metadata": {},
     "output_type": "execute_result"
    }
   ],
   "source": [
    "x[0].toarray()"
   ]
  },
  {
   "cell_type": "code",
   "execution_count": null,
   "id": "54edfa69-8e50-452c-b1a2-08fa850ce88a",
   "metadata": {},
   "outputs": [],
   "source": []
  }
 ],
 "metadata": {
  "kernelspec": {
   "display_name": "Python 3 (ipykernel)",
   "language": "python",
   "name": "python3"
  },
  "language_info": {
   "codemirror_mode": {
    "name": "ipython",
    "version": 3
   },
   "file_extension": ".py",
   "mimetype": "text/x-python",
   "name": "python",
   "nbconvert_exporter": "python",
   "pygments_lexer": "ipython3",
   "version": "3.12.7"
  }
 },
 "nbformat": 4,
 "nbformat_minor": 5
}
